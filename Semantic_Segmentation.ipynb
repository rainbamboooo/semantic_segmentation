{
 "cells": [
  {
   "cell_type": "code",
   "execution_count": 5,
   "metadata": {},
   "outputs": [],
   "source": [
    "import tensorflow as tf\n",
    "import scipy\n",
    "import numpy as np\n",
    "import os.path\n",
    "import helper\n",
    "import project_tests as tests\n",
    "from distutils.version import LooseVersion"
   ]
  },
  {
   "cell_type": "code",
   "execution_count": 3,
   "metadata": {},
   "outputs": [
    {
     "name": "stderr",
     "output_type": "stream",
     "text": [
      "  0%|          | 8.19K/997M [00:00<4:40:50, 59.2KB/s]"
     ]
    },
    {
     "name": "stdout",
     "output_type": "stream",
     "text": [
      "Downloading pre-trained vgg model...\n"
     ]
    },
    {
     "name": "stderr",
     "output_type": "stream",
     "text": [
      "997MB [00:10, 92.4MB/s]                              \n"
     ]
    },
    {
     "name": "stdout",
     "output_type": "stream",
     "text": [
      "Extracting model...\n"
     ]
    }
   ],
   "source": [
    "helper.maybe_download_pretrained_vgg('./data')"
   ]
  },
  {
   "cell_type": "code",
   "execution_count": 7,
   "metadata": {},
   "outputs": [
    {
     "name": "stdout",
     "output_type": "stream",
     "text": [
      "TensorFlow Version: 1.2.1\n"
     ]
    }
   ],
   "source": [
    "# Check TensorFlow Version\n",
    "assert LooseVersion(tf.__version__) >= LooseVersion('1.0'), 'Please use TensorFlow version 1.0 or newer.  You are using {}'.format(tf.__version__)\n",
    "print('TensorFlow Version: {}'.format(tf.__version__))"
   ]
  },
  {
   "cell_type": "code",
   "execution_count": 9,
   "metadata": {},
   "outputs": [
    {
     "name": "stdout",
     "output_type": "stream",
     "text": [
      "Tests Passed\n"
     ]
    }
   ],
   "source": [
    "def load_vgg(sess, vgg_path):\n",
    "    \"\"\"\n",
    "    Load Pretrained VGG Model into TensorFlow.\n",
    "    :param sess: TensorFlow Session\n",
    "    :param vgg_path: Path to vgg folder, containing \"variables/\" and \"saved_model.pb\"\n",
    "    :return: Tuple of Tensors from VGG model (image_input, keep_prob, layer3_out, layer4_out, layer7_out)\n",
    "    \"\"\"\n",
    "    vgg_tag = 'vgg16'\n",
    "    vgg_input_tensor_name = 'image_input:0'\n",
    "    vgg_keep_prob_tensor_name = 'keep_prob:0'\n",
    "    vgg_layer3_out_tensor_name = 'layer3_out:0'\n",
    "    vgg_layer4_out_tensor_name = 'layer4_out:0'\n",
    "    vgg_layer7_out_tensor_name = 'layer7_out:0'\n",
    "\n",
    "    model = tf.saved_model.loader.load(sess, [vgg_tag], vgg_path)\n",
    "\n",
    "    graph = tf.get_default_graph()\n",
    "\n",
    "    image_input = graph.get_tensor_by_name(vgg_input_tensor_name)\n",
    "    keep_prob = graph.get_tensor_by_name(vgg_keep_prob_tensor_name)\n",
    "    layer3 = graph.get_tensor_by_name(vgg_layer3_out_tensor_name)\n",
    "    layer4 = graph.get_tensor_by_name(vgg_layer4_out_tensor_name)\n",
    "    layer7 = graph.get_tensor_by_name(vgg_layer7_out_tensor_name)\n",
    "    \n",
    "    return image_input, keep_prob, layer3, layer4, layer7\n",
    "tests.test_load_vgg(load_vgg, tf)"
   ]
  },
  {
   "cell_type": "code",
   "execution_count": 10,
   "metadata": {},
   "outputs": [
    {
     "name": "stdout",
     "output_type": "stream",
     "text": [
      "Tests Passed\n"
     ]
    }
   ],
   "source": [
    "def layers(vgg_layer3_out, vgg_layer4_out, vgg_layer7_out, num_classes):\n",
    "    \"\"\"\n",
    "    Create the layers for a fully convolutional network.  Build skip-layers using the vgg layers.\n",
    "    :param vgg_layer7_out: TF Tensor for VGG Layer 3 output\n",
    "    :param vgg_layer4_out: TF Tensor for VGG Layer 4 output\n",
    "    :param vgg_layer3_out: TF Tensor for VGG Layer 7 output\n",
    "    :param num_classes: Number of classes to classify\n",
    "    :return: The Tensor for the last layer of output\n",
    "    \"\"\"\n",
    "    kernel_regularizer = tf.contrib.layers.l2_regularizer(0.001)\n",
    "    kernel_initializer = tf.contrib.layers.xavier_initializer_conv2d()\n",
    "    \n",
    "    pool3_1x1 = tf.layers.conv2d(vgg_layer3_out, num_classes, kernel_size=1, \n",
    "                                 padding='same', \n",
    "                                 kernel_initializer=kernel_initializer, \n",
    "                                 kernel_regularizer=kernel_regularizer)\n",
    "    \n",
    "    pool4_1x1 = tf.layers.conv2d(vgg_layer4_out, num_classes, kernel_size=1, \n",
    "                                 padding='same', \n",
    "                                 kernel_initializer=kernel_initializer, \n",
    "                                 kernel_regularizer=kernel_regularizer)\n",
    "    \n",
    "    conv7_1x1 = tf.layers.conv2d(vgg_layer7_out, num_classes, kernel_size=1, \n",
    "                                 padding='same', \n",
    "                                 kernel_initializer=kernel_initializer, \n",
    "                                 kernel_regularizer=kernel_regularizer)\n",
    "    \n",
    "    # make prediction of segmentation\n",
    "    deconv7 = tf.layers.conv2d_transpose(conv7_1x1, num_classes, kernel_size=4, strides=2, padding='same',\n",
    "                                         kernel_initializer=kernel_initializer, \n",
    "                                         kernel_regularizer=kernel_regularizer)\n",
    "    \n",
    "    fuse1 = tf.add(deconv7, pool4_1x1)\n",
    "    deconv_fuse1 = tf.layers.conv2d_transpose(fuse1, num_classes, kernel_size=4, strides=2, padding='same',\n",
    "                                              kernel_initializer=kernel_initializer,\n",
    "                                              kernel_regularizer=kernel_regularizer)\n",
    "    \n",
    "    fuse2 = tf.add(deconv_fuse1, pool3_1x1)\n",
    "    \n",
    "    out = tf.layers.conv2d_transpose(fuse2, num_classes, kernel_size=16, strides=8, padding='same',\n",
    "                                     kernel_initializer=kernel_initializer, \n",
    "                                     kernel_regularizer=kernel_regularizer)\n",
    "    \n",
    "    return out\n",
    "tests.test_layers(layers)"
   ]
  },
  {
   "cell_type": "code",
   "execution_count": 11,
   "metadata": {},
   "outputs": [
    {
     "name": "stdout",
     "output_type": "stream",
     "text": [
      "Tests Passed\n"
     ]
    }
   ],
   "source": [
    "def optimize(nn_last_layer, correct_label, learning_rate, num_classes):\n",
    "    \"\"\"\n",
    "    Build the TensorFLow loss and optimizer operations.\n",
    "    :param nn_last_layer: TF Tensor of the last layer in the neural network\n",
    "    :param correct_label: TF Placeholder for the correct label image\n",
    "    :param learning_rate: TF Placeholder for the learning rate\n",
    "    :param num_classes: Number of classes to classify\n",
    "    :return: Tuple of (logits, train_op, cross_entropy_loss)\n",
    "    \"\"\"\n",
    "    logits = tf.reshape(nn_last_layer, (-1, num_classes))\n",
    "    cross_entropy_loss = tf.reduce_mean(tf.nn.softmax_cross_entropy_with_logits(logits=logits, labels=correct_label))\n",
    "    train_op = tf.train.AdamOptimizer(learning_rate=learning_rate).minimize(cross_entropy_loss)\n",
    "    \n",
    "    return logits, train_op, cross_entropy_loss\n",
    "tests.test_optimize(optimize)"
   ]
  },
  {
   "cell_type": "code",
   "execution_count": 12,
   "metadata": {},
   "outputs": [
    {
     "name": "stdout",
     "output_type": "stream",
     "text": [
      "INFO:tensorflow:Restoring parameters from b'./data/vgg/variables/variables'\n"
     ]
    }
   ],
   "source": [
    "def train_nn(sess, epochs, batch_size, get_batches_fn, train_op, cross_entropy_loss, input_image,\n",
    "             correct_label, keep_prob, learning_rate):\n",
    "    \"\"\"\n",
    "    Train neural network and print out the loss during training.\n",
    "    :param sess: TF Session\n",
    "    :param epochs: Number of epochs\n",
    "    :param batch_size: Batch size\n",
    "    :param get_batches_fn: Function to get batches of training data.  Call using get_batches_fn(batch_size)\n",
    "    :param train_op: TF Operation to train the neural network\n",
    "    :param cross_entropy_loss: TF Tensor for the amount of loss\n",
    "    :param input_image: TF Placeholder for input images\n",
    "    :param correct_label: TF Placeholder for label images\n",
    "    :param keep_prob: TF Placeholder for dropout keep probability\n",
    "    :param learning_rate: TF Placeholder for learning rate\n",
    "    \"\"\"\n",
    "    # TODO: Implement function \n",
    "    sess.run(tf.global_variables_initializer())\n",
    "    losses_per_epoch = []\n",
    "    for i in range(epochs):\n",
    "        batch_count = 0\n",
    "        for img, label, in get_batches_fn(batch_size):\n",
    "            batch_count += 1\n",
    "            losses = []\n",
    "            _, loss = sess.run([train_op,cross_entropy_loss], feed_dict={input_image:img,\n",
    "                              correct_label:label, keep_prob:0.5, learning_rate:0.0001})\n",
    "            losses.append(loss)\n",
    "            print('batch ', batch_count, end = '')\n",
    "            print(' loss: ', loss)\n",
    "        loss_per_epoch = sum(losses)/len(losses)\n",
    "        losses_per_epoch.append(loss_per_epoch)\n",
    "        print('epoch ', i, end='')\n",
    "        print(' loss: ', loss_per_epoch)\n",
    "\n",
    "tests.test_train_nn(train_nn)"
   ]
  },
  {
   "cell_type": "code",
   "execution_count": 13,
   "metadata": {
    "collapsed": true
   },
   "outputs": [],
   "source": [
    "num_classes = 2\n",
    "image_shape = (160, 576)\n",
    "data_dir = './data'\n",
    "runs_dir = './runs'\n",
    "batch_size = 16\n",
    "epochs = 40\n",
    "tests.test_for_kitti_dataset(data_dir)\n",
    "\n",
    "# OPTIONAL: Train and Inference on the cityscapes dataset instead of the Kitti dataset.\n",
    "# You'll need a GPU with at least 10 teraFLOPS to train on.\n",
    "#  https://www.cityscapes-dataset.com/\n",
    "\n",
    "with tf.Session() as sess:\n",
    "    # Path to vgg model\n",
    "    vgg_path = os.path.join(data_dir, 'vgg')\n",
    "    # Create function to get batches\n",
    "    get_batches_fn = helper.gen_batch_function(os.path.join(data_dir, 'data_road/training'), image_shape)\n",
    "\n",
    "    # OPTIONAL: Augment Images for better results\n",
    "    #  https://datascience.stackexchange.com/questions/5224/how-to-prepare-augment-images-for-neural-network\n",
    "\n",
    "    # TODO: Build NN using load_vgg, layers, and optimize function\n",
    "\n",
    "    correct_label = tf.placeholder(tf.int32)\n",
    "    learning_rate = tf.placeholder(tf.float32)\n",
    "\n",
    "    image_input, keep_prob, layer3_out, layer4_out, layer7_out = load_vgg(sess, vgg_path)\n",
    "    nn_last_layer = layers(layer3_out, layer4_out, layer7_out, num_classes)\n",
    "    logits, train_op, cross_entropy_loss = optimize(nn_last_layer, correct_label, learning_rate, num_classes)\n",
    "\n",
    "\n",
    "    # TODO: Train NN using the train_nn function\n",
    "    train_nn(sess, epochs, batch_size, get_batches_fn, train_op, cross_entropy_loss, image_input, correct_label, keep_prob, learning_rate)\n",
    "\n",
    "    # TODO: Save inference data using helper.save_inference_samples\n",
    "    helper.save_inference_samples(runs_dir, data_dir, sess, image_shape, logits, keep_prob, image_input)"
   ]
  },
  {
   "cell_type": "code",
   "execution_count": null,
   "metadata": {
    "collapsed": true
   },
   "outputs": [],
   "source": []
  }
 ],
 "metadata": {
  "kernelspec": {
   "display_name": "Python 3",
   "language": "python",
   "name": "python3"
  },
  "language_info": {
   "codemirror_mode": {
    "name": "ipython",
    "version": 3
   },
   "file_extension": ".py",
   "mimetype": "text/x-python",
   "name": "python",
   "nbconvert_exporter": "python",
   "pygments_lexer": "ipython3",
   "version": "3.6.1"
  },
  "widgets": {
   "state": {},
   "version": "1.1.2"
  }
 },
 "nbformat": 4,
 "nbformat_minor": 2
}
